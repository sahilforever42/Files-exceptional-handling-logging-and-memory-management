{
  "nbformat": 4,
  "nbformat_minor": 0,
  "metadata": {
    "colab": {
      "provenance": []
    },
    "kernelspec": {
      "name": "python3",
      "display_name": "Python 3"
    },
    "language_info": {
      "name": "python"
    }
  },
  "cells": [
    {
      "cell_type": "markdown",
      "source": [
        "#**Files, exceptional handling, logging and memory management**"
      ],
      "metadata": {
        "id": "oOTRYcysV8vW"
      }
    },
    {
      "cell_type": "markdown",
      "source": [
        "1. What is the difference between interpreted and compiled languages?\n",
        "-  In a compiled language, the source code is translated entirely into machine code (binary code) by a compiler before it is executed wheras in an interpreted language, the source code is executed line-by-line by an interpreter at runtime, without a separate compilation step."
      ],
      "metadata": {
        "id": "YFzOKcfCWYRX"
      }
    },
    {
      "cell_type": "markdown",
      "source": [
        "2. What is exception handling in Python?\n",
        "-  Exception handling in Python refers to the process of dealing with runtime errors (exceptions) that occur during the execution of a program. Instead of the program crashing when an error occurs, Python allows you to handle those errors gracefully, so the program can continue or fail in a controlled manner."
      ],
      "metadata": {
        "id": "N3PVxl0RW6V2"
      }
    },
    {
      "cell_type": "markdown",
      "source": [
        "3. What is the purpose of the finally block in exception handling?\n",
        "-  The finally block in exception handling is used to define cleanup actions that must always be executed, regardless of whether an exception occurred or not. This block runs no matter what — whether an exception was raised, handled, or even if no exception occurred.\n",
        "\n"
      ],
      "metadata": {
        "id": "An94JrFqXSRU"
      }
    },
    {
      "cell_type": "markdown",
      "source": [
        "4. What is logging in Python?\n",
        "-  Logging in Python is the process of recording information about the execution of a program. This information can help developers understand how their program is running, troubleshoot issues, and track errors or performance metrics."
      ],
      "metadata": {
        "id": "ZKcxzqwTXkpK"
      }
    },
    {
      "cell_type": "markdown",
      "source": [
        "5.  What is the significance of the __del__ method in Python?\n",
        "-  The __del__ method in Python is a destructor method that is called when an object is about to be destroyed (i.e., when it is garbage collected). It's part of Python's object-oriented programming system, allowing you to define cleanup actions that should occur before an object is removed from memory.\n",
        "\n"
      ],
      "metadata": {
        "id": "xXlA7Ac2X1yO"
      }
    },
    {
      "cell_type": "markdown",
      "source": [
        "6. What is the difference between import and from ... import in Python?\n",
        "- In Python, both import and from ... import are used to bring modules and their components into the current namespace, but they work in slightly different ways.When you use import, you are bringing the entire module into the namespace, and you typically access its components (such as functions, classes, or variables) by referencing the module's name.\n",
        "\n",
        "When you use from ... import, you import specific components (functions, classes, variables, etc.) from a module directly into the current namespace, without the need to reference the module.\n",
        "\n",
        "\n",
        "\n"
      ],
      "metadata": {
        "id": "pvhOMycWYHvw"
      }
    },
    {
      "cell_type": "markdown",
      "source": [
        "7. How can you handle multiple exceptions in Python?\n",
        "-  In Python, you can handle multiple exceptions in several ways. Python provides flexibility in catching multiple exceptions to ensure your program doesn't crash unexpectedly and provides meaningful error messages or fallback behavior.\n",
        "\n"
      ],
      "metadata": {
        "id": "K80bD6QqYrq1"
      }
    },
    {
      "cell_type": "markdown",
      "source": [
        "8. What is the purpose of the with statement when handling files in Python?\n",
        "-  The with statement in Python is used to handle resources, such as files, in a clean and efficient way. It simplifies exception handling and ensures that resources are properly acquired and released. When working with files, the with statement is especially useful because it guarantees that files are properly closed, even if an error occurs during the file operation.\n",
        "\n"
      ],
      "metadata": {
        "id": "x9Li5wjtY5g0"
      }
    },
    {
      "cell_type": "markdown",
      "source": [
        "9. What is the difference between multithreading and multiprocessing?\n",
        "-  **Multithreading** involves running multiple threads (smaller units of a process) within a single process. Threads share the same memory space, and they can run concurrently, but they are still bound by the Global Interpreter Lock (GIL) in CPython (the default Python implementation).\n",
        "\n",
        "-  **Multiprocessing** involves running multiple processes, where each process has its own memory space. This allows Python programs to fully utilize multiple CPU cores, as each process can run on a separate core without being affected by the GIL.\n",
        "\n"
      ],
      "metadata": {
        "id": "-y6NONRSZ13k"
      }
    },
    {
      "cell_type": "markdown",
      "source": [
        "10. What are the advantages of using logging in a program?\n",
        "-  Using logging in a program offers several advantages, especially in terms of maintaining, debugging, and monitoring the application over time. Here are some of the key benefits:\n",
        "\n",
        "1. Easier Debugging and Troubleshooting\n",
        "2. Insight into Application Behavior\n",
        "3. Monitoring and Performance Tracking\n",
        "4. Auditing and Compliance\n",
        "5. Improved User Support\n",
        "6. Non-Intrusive Error Tracking\n",
        "7. Contextual Information\n",
        "8. Long-Term Maintenance\n",
        "9. Configurability\n",
        "10. Automation and Alerts\n",
        "\n"
      ],
      "metadata": {
        "id": "mBnNTOi8aWV9"
      }
    },
    {
      "cell_type": "markdown",
      "source": [
        "11. What is memory management in Python?\n",
        "-  Memory management in Python refers to the process of efficiently allocating, managing, and releasing memory for objects that are created during the execution of a Python program. Python handles memory management automatically through several key components, but understanding how it works can help you write more efficient programs and avoid potential issues like memory leaks.\n",
        "\n"
      ],
      "metadata": {
        "id": "c06Z2qdVbNpW"
      }
    },
    {
      "cell_type": "markdown",
      "source": [
        "12. What are the basic steps involved in exception handling in Python?\n",
        "-  Exception handling in Python is used to handle errors (exceptions) that occur during the execution of a program, allowing you to manage them gracefully rather than having the program crash. The basic steps involved in exception handling in Python are:\n",
        "\n",
        "1. Use of try Block- The try block is where you place the code that may raise an exception. It allows Python to monitor the execution of the code and identify any errors that might occur.\n",
        "2. Use of except Block- If an exception occurs in the try block, Python will immediately stop executing the code in that block and jump to the corresponding except block. The except block defines how to handle the exception.\n",
        "3. The else block is optional and runs if no exceptions were raised in the try block. It allows you to define code that should only execute when no errors occurred.\n",
        "4. Using finally Block- The finally block is also optional. It contains code that will always execute, regardless of whether an exception was raised or not. It is often used for clean-up actions, like closing files or releasing resources.\n",
        "5. Handling Multiple Exceptions- You can handle multiple types of exceptions in a single try block by specifying multiple except blocks or a single except block with a tuple of exception types.\n",
        "\n",
        "\n",
        "\n"
      ],
      "metadata": {
        "id": "hRRKb1e-bWNy"
      }
    },
    {
      "cell_type": "markdown",
      "source": [
        "13. Why is memory management important in Python?\n",
        "-  Memory management in Python is crucial for several reasons, as it directly affects the efficiency, performance, and stability of your application. Here's why it’s important:\n",
        "\n",
        "1. Preventing Memory Leaks\n",
        "2. Efficient Resource Usage\n",
        "3. Improved Performance\n",
        "4. Handling Large Data Sets\n",
        "5. Avoiding Fragmentation\n",
        "6. Automatic Garbage Collection\n",
        "7. Scalability\n",
        "8. Error Prevention\n",
        "9. System Stability\n",
        "10. Resource Cleanup\n"
      ],
      "metadata": {
        "id": "BLdbau56cLi3"
      }
    },
    {
      "cell_type": "markdown",
      "source": [
        "14. What is the role of try and except in exception handling?\n",
        "-  In Python, try and except are the fundamental components of exception handling. They allow you to catch and manage errors (exceptions) that occur during the execution of a program, preventing the program from crashing and allowing you to handle the error gracefully."
      ],
      "metadata": {
        "id": "6IPF_my6cpT7"
      }
    },
    {
      "cell_type": "markdown",
      "source": [
        "15. How does Python's garbage collection system work?\n",
        "-  Python's garbage collection (GC) system is responsible for automatically managing memory and cleaning up objects that are no longer in use, ensuring efficient memory usage during program execution. It primarily uses reference counting and cyclic garbage collection to track and clean up memory."
      ],
      "metadata": {
        "id": "Fe3LDKqTc3VW"
      }
    },
    {
      "cell_type": "markdown",
      "source": [
        "16. What is the purpose of the else block in exception handling?\n",
        "-  The else block in Python's exception handling is used to define code that should be executed if no exception occurs in the associated try block. This allows you to separate the normal execution flow (code that works without errors) from the error-handling logic (code in the except block).\n",
        "\n"
      ],
      "metadata": {
        "id": "yx3nYaw0dD0U"
      }
    },
    {
      "cell_type": "markdown",
      "source": [
        "17. What are the common logging levels in Python?\n",
        "-  In Python, the logging module provides a way to log messages with different severity levels, allowing you to control the verbosity of your log output. These logging levels help indicate the importance or severity of the messages being logged."
      ],
      "metadata": {
        "id": "A7pqrtoFdQUe"
      }
    },
    {
      "cell_type": "markdown",
      "source": [
        "18.  What is the difference between os.fork() and multiprocessing in Python?\n",
        "- In Python, both os.fork() and the multiprocessing module are used to create processes, but they are quite different in terms of usage, behavior, and functionality.\n",
        "-  os.fork() is a low-level function that is available on Unix-like systems (Linux, macOS). It creates a new process by duplicating the calling process. The new process is referred to as the child process, and the original process is the parent process.\n",
        "- The multiprocessing module is a higher-level, cross-platform library in Python that allows you to create and manage multiple processes. It is designed to take full advantage of multiple CPUs and cores in modern systems. It provides an abstraction layer over low-level process management and is platform-independent."
      ],
      "metadata": {
        "id": "Fz7BXQWddjKW"
      }
    },
    {
      "cell_type": "markdown",
      "source": [
        "19. What is the importance of closing a file in Python?\n",
        "- In Python, closing a file after it has been opened is essential for several important reasons. When you open a file, it is associated with system resources like memory and file descriptors, and failing to close the file properly can lead to a variety of issues.\n",
        "\n"
      ],
      "metadata": {
        "id": "OYFYB-uZd7Y1"
      }
    },
    {
      "cell_type": "markdown",
      "source": [
        "20. What is the difference between file.read() and file.readline() in Python?\n",
        "-  In Python, both file.read() and file.readline() are methods used to read the content of a file, but they differ in how they read the file's contents and the way they return data.\n",
        "\n",
        "file.read() reads the entire content of the file (or a specified number of characters) whereas\n",
        "file.readline() reads one line at a time from the file."
      ],
      "metadata": {
        "id": "9JjJh5UaeLFN"
      }
    },
    {
      "cell_type": "markdown",
      "source": [
        "21. What is the logging module in Python used for?\n",
        "-  The logging module in Python is used for tracking and recording events that happen during the execution of a program. It provides a flexible framework for emitting log messages from your code, which can be useful for debugging, monitoring, and auditing purposes.\n",
        "\n"
      ],
      "metadata": {
        "id": "CoZlnMeZeyQ3"
      }
    },
    {
      "cell_type": "markdown",
      "source": [
        "22. What is the os module in Python used for in file handling?\n",
        "-  The os module in Python provides a way to interact with the operating system and perform various file handling and system operations. It is widely used for working with files and directories, such as creating, removing, renaming, and navigating through files. The os module also allows you to gather information about files, set file permissions, and more.\n",
        "\n"
      ],
      "metadata": {
        "id": "4zpYPCJBgRuB"
      }
    },
    {
      "cell_type": "markdown",
      "source": [
        "23. What are the challenges associated with memory management in Python?\n",
        "-  Memory management in Python can present several challenges due to the way the language handles memory allocation, garbage collection, and object management. While Python abstracts much of memory management to simplify development, these automatic processes can sometimes lead to inefficiencies and limitations."
      ],
      "metadata": {
        "id": "PcjDedIhgr7e"
      }
    },
    {
      "cell_type": "markdown",
      "source": [
        "24.  How do you raise an exception manually in Python?\n",
        "- In Python, you can raise an exception manually using the raise statement. This is useful when you want to indicate that an error has occurred, either as a result of invalid input, a failed condition, or some other issue in your program.\n",
        "\n"
      ],
      "metadata": {
        "id": "_YO1Hk50hdGk"
      }
    },
    {
      "cell_type": "markdown",
      "source": [
        "25. Why is it important to use multithreading in certain applications?\n",
        "-  Multithreading is important in certain applications because it allows programs to perform multiple tasks concurrently, which can lead to better performance, responsiveness, and resource utilization."
      ],
      "metadata": {
        "id": "6OnXw7wRhv1O"
      }
    },
    {
      "cell_type": "markdown",
      "source": [
        "# Practical Questions"
      ],
      "metadata": {
        "id": "aYK1RHSch_9v"
      }
    },
    {
      "cell_type": "code",
      "execution_count": 1,
      "metadata": {
        "id": "9v-wh5mCVzog"
      },
      "outputs": [],
      "source": [
        "#1. How can you open a file for writing in Python and write a string to it?\n",
        "\n",
        "with open( 'example.txt', 'w') as file:\n",
        "  # Write a string to the file\n",
        "    file.write(\"This is the string written to the file.\")\n"
      ]
    },
    {
      "cell_type": "code",
      "source": [
        "#2. Write a Python program to read the contents of a file and print each line.\n",
        "# Open the file in read mode ('r')\n",
        "with open('example.txt', 'r') as file:\n",
        "    # Read and print each line from the file\n",
        "    for line in file:\n",
        "        print(line, end='')  # 'end' avoids adding an extra newline\n"
      ],
      "metadata": {
        "colab": {
          "base_uri": "https://localhost:8080/"
        },
        "id": "J7RCryabjjjB",
        "outputId": "358e908b-87ab-4b4b-b9ad-9909585f22b5"
      },
      "execution_count": 2,
      "outputs": [
        {
          "output_type": "stream",
          "name": "stdout",
          "text": [
            "This is the string written to the file."
          ]
        }
      ]
    },
    {
      "cell_type": "code",
      "source": [
        "#3. How would you handle a case where the file doesn't exist while trying to open it for reading?\n",
        "try:\n",
        "    # Try to open the file in read mode ('r')\n",
        "    with open('example.txt', 'r') as file:\n",
        "        # Read and print each line from the file\n",
        "        for line in file:\n",
        "            print(line, end='')  # 'end' avoids adding an extra newline\n",
        "except FileNotFoundError:\n",
        "    # Handle the case where the file does not exist\n",
        "    print(\"Error: The file does not exist.\")\n"
      ],
      "metadata": {
        "colab": {
          "base_uri": "https://localhost:8080/"
        },
        "id": "qBU3T0J6kDFS",
        "outputId": "d6312050-5577-42be-d5d1-609f5c1681c0"
      },
      "execution_count": 3,
      "outputs": [
        {
          "output_type": "stream",
          "name": "stdout",
          "text": [
            "This is the string written to the file."
          ]
        }
      ]
    },
    {
      "source": [
        "#4.Write a Python script that reads from one file and writes its content to another file.\n",
        "# Open the source file in read mode ('r') and the destination file in write mode ('w')\n",
        "\n",
        "import os\n",
        "\n",
        "# Get the current working directory\n",
        "current_directory = os.getcwd()\n",
        "\n",
        "# Check if 'source.txt' exists in the current directory\n",
        "source_file_path = os.path.join(current_directory, 'source.txt')\n",
        "\n",
        "if os.path.exists(source_file_path):\n",
        "    with open('source.txt', 'r') as source_file:\n",
        "        # Read all content from the source file\n",
        "        content = source_file.read()\n",
        "\n",
        "    # Open the destination file in write mode ('w')\n",
        "    with open('destination.txt', 'w') as destination_file:\n",
        "        # Write the content to the destination file\n",
        "        destination_file.write(content)\n",
        "\n",
        "    print(\"Content has been successfully copied from source.txt to destination.txt.\")\n",
        "else:\n",
        "    print(f\"Error: The file 'source.txt' does not exist in the current directory: {current_directory}\")"
      ],
      "cell_type": "code",
      "metadata": {
        "colab": {
          "base_uri": "https://localhost:8080/"
        },
        "id": "2zEzJALnp9hp",
        "outputId": "f72f61aa-cca7-416c-eba2-9ebcf6aad74a"
      },
      "execution_count": 5,
      "outputs": [
        {
          "output_type": "stream",
          "name": "stdout",
          "text": [
            "Error: The file 'source.txt' does not exist in the current directory: /content\n"
          ]
        }
      ]
    },
    {
      "cell_type": "code",
      "source": [
        "#5. How would you catch and handle division by zero error in Python?\n",
        "\n",
        "try:\n",
        "    # Try to perform division\n",
        "    numerator = 10\n",
        "    denominator = 0\n",
        "    result = numerator / denominator\n",
        "    print(f\"The result is: {result}\")\n",
        "except ZeroDivisionError:\n",
        "    # Handle division by zero error\n",
        "    print(\"Error: Cannot divide by zero!\")\n"
      ],
      "metadata": {
        "colab": {
          "base_uri": "https://localhost:8080/"
        },
        "id": "tO0N3RwJrebl",
        "outputId": "c98bd447-29b8-4fe1-979c-9355034870d5"
      },
      "execution_count": 6,
      "outputs": [
        {
          "output_type": "stream",
          "name": "stdout",
          "text": [
            "Error: Cannot divide by zero!\n"
          ]
        }
      ]
    },
    {
      "cell_type": "code",
      "source": [
        "#6. Write a Python program that logs an error message to a log file when a division by zero exception occurs.\n",
        "\n",
        "import logging\n",
        "\n",
        "# Configure the logging to write to a log file\n",
        "logging.basicConfig(filename='error_log.txt', level=logging.ERROR,\n",
        "                    format='%(asctime)s - %(levelname)s - %(message)s')\n",
        "\n",
        "try:\n",
        "    # Try to perform division\n",
        "    numerator = 10\n",
        "    denominator = 0\n",
        "    result = numerator / denominator\n",
        "    print(f\"The result is: {result}\")\n",
        "except ZeroDivisionError as e:\n",
        "    # Log the error message to the log file\n",
        "    logging.error(\"Attempted to divide by zero\")\n",
        "    print(\"Error: Cannot divide by zero! An error has been logged.\")\n"
      ],
      "metadata": {
        "colab": {
          "base_uri": "https://localhost:8080/"
        },
        "id": "GQoZNM1CsUY3",
        "outputId": "50323474-8ef5-4251-ff2a-259c7ce58a07"
      },
      "execution_count": 7,
      "outputs": [
        {
          "output_type": "stream",
          "name": "stderr",
          "text": [
            "ERROR:root:Attempted to divide by zero\n"
          ]
        },
        {
          "output_type": "stream",
          "name": "stdout",
          "text": [
            "Error: Cannot divide by zero! An error has been logged.\n"
          ]
        }
      ]
    },
    {
      "cell_type": "code",
      "source": [
        "#7. How do you log information at different levels (INFO, ERROR, WARNING) in Python using the logging module?\n",
        "import logging\n",
        "\n",
        "# Set up the basic configuration for logging\n",
        "logging.basicConfig(level=logging.DEBUG,  # Set the log level to the most detailed level\n",
        "                    format='%(asctime)s - %(levelname)s - %(message)s')\n",
        "logging.info('This is an info message')\n",
        "logging.error('This is an error message')\n",
        "logging.warning('This is a warning message')\n"
      ],
      "metadata": {
        "colab": {
          "base_uri": "https://localhost:8080/"
        },
        "id": "WAkyZnhYsu8P",
        "outputId": "4d1d6c97-82b5-41bc-9bb4-2bb2150db56e"
      },
      "execution_count": 8,
      "outputs": [
        {
          "output_type": "stream",
          "name": "stderr",
          "text": [
            "ERROR:root:This is an error message\n",
            "WARNING:root:This is a warning message\n"
          ]
        }
      ]
    },
    {
      "cell_type": "code",
      "source": [
        "import logging\n",
        "\n",
        "# Set up logging\n",
        "logging.basicConfig(level=logging.DEBUG,\n",
        "                    format='%(asctime)s - %(levelname)s - %(message)s')\n",
        "\n",
        "# Log messages at different levels\n",
        "logging.debug('This is a debug message')  # Detailed information for debugging\n",
        "logging.info('This is an info message')   # Informational message\n",
        "logging.warning('This is a warning message')  # A warning message\n",
        "logging.error('This is an error message')  # An error message\n",
        "logging.critical('This is a critical message')  # A very serious error\n"
      ],
      "metadata": {
        "colab": {
          "base_uri": "https://localhost:8080/"
        },
        "id": "o-sYpcRZphSB",
        "outputId": "319dee27-3cbb-4a9e-eafb-e1321c7c246e"
      },
      "execution_count": 11,
      "outputs": [
        {
          "output_type": "stream",
          "name": "stderr",
          "text": [
            "WARNING:root:This is a warning message\n",
            "ERROR:root:This is an error message\n",
            "CRITICAL:root:This is a critical message\n"
          ]
        }
      ]
    },
    {
      "cell_type": "code",
      "source": [
        "#8. Write a program to handle a file opening error using exception handling.\n",
        "try:\n",
        "    # Try to open a file\n",
        "    with open('non_existent_file.txt', 'r') as file:\n",
        "        content = file.read()\n",
        "        print(content)\n",
        "\n",
        "except FileNotFoundError as e:\n",
        "    # Handle the case where the file is not found\n",
        "    print(f\"Error: The file was not found. {e}\")\n",
        "\n",
        "except PermissionError as e:\n",
        "    # Handle the case where there are permission issues\n",
        "    print(f\"Error: You don't have permission to open this file. {e}\")\n",
        "\n",
        "except Exception as e:\n",
        "    # Handle any other unexpected errors\n",
        "    print(f\"An unexpected error occurred: {e}\")\n",
        "\n",
        "finally:\n",
        "    print(\"Execution finished, whether or not the file opened successfully.\")\n"
      ],
      "metadata": {
        "colab": {
          "base_uri": "https://localhost:8080/"
        },
        "id": "d00qaehFtSV3",
        "outputId": "8807490a-10e2-4bb8-96b1-55371993f9b7"
      },
      "execution_count": 12,
      "outputs": [
        {
          "output_type": "stream",
          "name": "stdout",
          "text": [
            "Error: The file was not found. [Errno 2] No such file or directory: 'non_existent_file.txt'\n",
            "Execution finished, whether or not the file opened successfully.\n"
          ]
        }
      ]
    },
    {
      "cell_type": "code",
      "source": [
        "#9. How can you read a file line by line and store its content in a list in Python?\n",
        "try:\n",
        "    with open('file.txt', 'r') as file:\n",
        "        lines = file.readlines()  # Reads the file and stores each line as an element in the list\n",
        "    print(lines)\n",
        "except FileNotFoundError as e:\n",
        "    print(f\"Error: {e}\")\n",
        "lines = []\n",
        "try:\n",
        "    with open('file.txt', 'r') as file:\n",
        "        for line in file:\n",
        "            lines.append(line.strip())  # strip() removes any trailing newline characters\n",
        "    print(lines)\n",
        "except FileNotFoundError as e:\n",
        "    print(f\"Error: {e}\")\n"
      ],
      "metadata": {
        "colab": {
          "base_uri": "https://localhost:8080/"
        },
        "id": "NS88ovQvt0rx",
        "outputId": "617df6ea-b66a-45a6-9b40-b815730664f9"
      },
      "execution_count": 14,
      "outputs": [
        {
          "output_type": "stream",
          "name": "stdout",
          "text": [
            "Error: [Errno 2] No such file or directory: 'file.txt'\n",
            "Error: [Errno 2] No such file or directory: 'file.txt'\n"
          ]
        }
      ]
    },
    {
      "cell_type": "code",
      "source": [
        "#How can you append data to an existing file in Python?\n",
        "data_to_append = \"This is the new data that will be appended.\\n\"\n",
        "\n",
        "try:\n",
        "    # Open the file in append mode ('a')\n",
        "    with open('file.txt', 'a') as file:\n",
        "        file.write(data_to_append)  # Append the new data\n",
        "    print(\"Data appended successfully.\")\n",
        "except FileNotFoundError as e:\n",
        "    print(f\"Error: {e}\")\n"
      ],
      "metadata": {
        "colab": {
          "base_uri": "https://localhost:8080/"
        },
        "id": "l3tGiiHnuOTZ",
        "outputId": "8a8663de-3aa3-4217-e016-ddd4b7172dae"
      },
      "execution_count": 15,
      "outputs": [
        {
          "output_type": "stream",
          "name": "stdout",
          "text": [
            "Data appended successfully.\n"
          ]
        }
      ]
    },
    {
      "cell_type": "code",
      "source": [
        "#11. Write a Python program that uses a try-except block to handle an error when attempting to access a\n",
        "# dictionary key that doesn't exist.\n",
        "\n",
        "# Sample dictionary\n",
        "my_dict = {'name': 'Alice', 'age': 30}\n",
        "\n",
        "# Key that doesn't exist in the dictionary\n",
        "key_to_access = 'address'\n",
        "\n",
        "try:\n",
        "    # Attempt to access the value of a non-existing key\n",
        "    value = my_dict[key_to_access]\n",
        "    print(f\"The value of '{key_to_access}' is: {value}\")\n",
        "except KeyError as e:\n",
        "    # Handle the case when the key doesn't exist in the dictionary\n",
        "    print(f\"Error: The key '{e.args[0]}' does not exist in the dictionary.\")\n"
      ],
      "metadata": {
        "colab": {
          "base_uri": "https://localhost:8080/"
        },
        "id": "ji7OwkKqvG_M",
        "outputId": "32fa1037-9eed-42b4-9cc5-a365902b92dc"
      },
      "execution_count": 16,
      "outputs": [
        {
          "output_type": "stream",
          "name": "stdout",
          "text": [
            "Error: The key 'address' does not exist in the dictionary.\n"
          ]
        }
      ]
    },
    {
      "cell_type": "code",
      "source": [
        "#12. Write a program that demonstrates using multiple except blocks to handle different types of exceptions.\n",
        "\n",
        "def demo_exceptions():\n",
        "    try:\n",
        "        # Example code that could raise different exceptions\n",
        "\n",
        "        # 1. Division by zero error\n",
        "        num = 10\n",
        "        denom = 0\n",
        "        result = num / denom  # This will raise a ZeroDivisionError\n",
        "\n",
        "        # 2. Index out of range error\n",
        "        my_list = [1, 2, 3]\n",
        "        element = my_list[5]  # This will raise an IndexError\n",
        "\n",
        "        # 3. ValueError\n",
        "        value = int(\"abc\")  # This will raise a ValueError\n",
        "\n",
        "    except ZeroDivisionError as e:\n",
        "        print(f\"Error: Cannot divide by zero! {e}\")\n",
        "    except IndexError as e:\n",
        "        print(f\"Error: Index out of range! {e}\")\n",
        "    except ValueError as e:\n",
        "        print(f\"Error: Invalid value conversion! {e}\")\n",
        "    except Exception as e:\n",
        "        # This block handles any other exceptions not specifically caught\n",
        "        print(f\"An unexpected error occurred: {e}\")\n",
        "    finally:\n",
        "        print(\"Execution finished.\")\n",
        "\n",
        "# Run the demo function\n",
        "demo_exceptions()\n"
      ],
      "metadata": {
        "colab": {
          "base_uri": "https://localhost:8080/"
        },
        "id": "fzW48OP_vU5H",
        "outputId": "4173a0c8-fce4-4424-8855-d0b1cb0f793e"
      },
      "execution_count": 17,
      "outputs": [
        {
          "output_type": "stream",
          "name": "stdout",
          "text": [
            "Error: Cannot divide by zero! division by zero\n",
            "Execution finished.\n"
          ]
        }
      ]
    },
    {
      "cell_type": "code",
      "source": [
        "#13.  How would you check if a file exists before attempting to read it in Python?\n",
        "\n",
        "import os\n",
        "\n",
        "file_path = 'example.txt'\n",
        "\n",
        "# Check if the file exists\n",
        "if os.path.exists(file_path):\n",
        "    try:\n",
        "        with open(file_path, 'r') as file:\n",
        "            content = file.read()\n",
        "            print(content)\n",
        "    except Exception as e:\n",
        "        print(f\"An error occurred while reading the file: {e}\")\n",
        "else:\n",
        "    print(f\"The file '{file_path}' does not exist.\")\n"
      ],
      "metadata": {
        "colab": {
          "base_uri": "https://localhost:8080/"
        },
        "id": "XxFco9k9vk4T",
        "outputId": "66344f6d-4bbc-4e38-ff71-ebfe5e71d61e"
      },
      "execution_count": 18,
      "outputs": [
        {
          "output_type": "stream",
          "name": "stdout",
          "text": [
            "This is the string written to the file.\n"
          ]
        }
      ]
    },
    {
      "cell_type": "code",
      "source": [
        "#14.Write a program that uses the logging module to log both informational and error messages.\n",
        "import logging\n",
        "\n",
        "# Set up logging configuration\n",
        "logging.basicConfig(\n",
        "    level=logging.DEBUG,  # Capture all levels of logs (DEBUG and higher)\n",
        "    format='%(asctime)s - %(levelname)s - %(message)s'\n",
        ")\n",
        "\n",
        "# Log an informational message\n",
        "logging.info('This is an informational message.')\n",
        "\n",
        "try:\n",
        "    # Simulating an error (division by zero)\n",
        "    x = 10\n",
        "    y = 0\n",
        "    result = x / y\n",
        "except ZeroDivisionError as e:\n",
        "    # Log the error message\n",
        "    logging.error(f'Error occurred: {e}')\n",
        "\n",
        "# Log another informational message\n",
        "logging.info('Program finished execution.')\n",
        "\n"
      ],
      "metadata": {
        "colab": {
          "base_uri": "https://localhost:8080/"
        },
        "id": "nD-OrPm9vzej",
        "outputId": "aefe0c41-d2dd-416d-82a6-3eb6bedf1494"
      },
      "execution_count": 19,
      "outputs": [
        {
          "output_type": "stream",
          "name": "stderr",
          "text": [
            "ERROR:root:Error occurred: division by zero\n"
          ]
        }
      ]
    },
    {
      "cell_type": "code",
      "source": [
        "#Write a Python program that prints the content of a file and handles the case when the file is empty.\n",
        "def print_file_content(file_path):\n",
        "    try:\n",
        "        with open(file_path, 'r') as file:\n",
        "            content = file.read()\n",
        "            if content:\n",
        "                print(content)  # Print the content of the file\n",
        "            else:\n",
        "                print(\"The file is empty.\")\n",
        "    except FileNotFoundError as e:\n",
        "        print(f\"Error: The file '{file_path}' was not found. {e}\")\n",
        "    except Exception as e:\n",
        "        print(f\"An unexpected error occurred: {e}\")\n",
        "\n",
        "# Example usage\n",
        "file_path = 'example.txt'  # Replace with the path of your file\n",
        "print_file_content(file_path)\n"
      ],
      "metadata": {
        "colab": {
          "base_uri": "https://localhost:8080/"
        },
        "id": "W7JLgg7owEd_",
        "outputId": "0f92426d-30b3-4d91-ccf4-62d09ce65700"
      },
      "execution_count": 20,
      "outputs": [
        {
          "output_type": "stream",
          "name": "stdout",
          "text": [
            "This is the string written to the file.\n"
          ]
        }
      ]
    },
    {
      "cell_type": "code",
      "source": [
        "#16. Demonstrate how to use memory profiling to check the memory usage of a small program.\n",
        "\n",
        "!pip install memory_profiler\n",
        "\n",
        "from memory_profiler import profile\n",
        "\n",
        "# Function to demonstrate memory profiling\n",
        "@profile\n",
        "def my_function():\n",
        "    a = [i for i in range(1000000)]  # List comprehension to create a large list\n",
        "    b = [i * 2 for i in a]  # Creating another list based on the previous one\n",
        "    del a  # Delete the first list to simulate memory release\n",
        "    return b\n",
        "\n",
        "if __name__ == \"__main__\":\n",
        "    my_function()\n",
        "\n"
      ],
      "metadata": {
        "colab": {
          "base_uri": "https://localhost:8080/"
        },
        "id": "TaKqeqD3wTnr",
        "outputId": "d6d1d5e3-62f3-4b93-86e9-7ce6946b4df9"
      },
      "execution_count": 23,
      "outputs": [
        {
          "output_type": "stream",
          "name": "stdout",
          "text": [
            "Collecting memory_profiler\n",
            "  Downloading memory_profiler-0.61.0-py3-none-any.whl.metadata (20 kB)\n",
            "Requirement already satisfied: psutil in /usr/local/lib/python3.11/dist-packages (from memory_profiler) (5.9.5)\n",
            "Downloading memory_profiler-0.61.0-py3-none-any.whl (31 kB)\n",
            "Installing collected packages: memory_profiler\n",
            "Successfully installed memory_profiler-0.61.0\n"
          ]
        },
        {
          "output_type": "stream",
          "name": "stderr",
          "text": [
            "\n",
            "PYDEV DEBUGGER WARNING:\n",
            "sys.settrace() should not be used when the debugger is being used.\n",
            "This may cause the debugger to stop working correctly.\n",
            "If this is needed, please check: \n",
            "http://pydev.blogspot.com/2007/06/why-cant-pydev-debugger-work-with.html\n",
            "to see how to restore the debug tracing back correctly.\n",
            "Call Location:\n",
            "  File \"/usr/local/lib/python3.11/dist-packages/memory_profiler.py\", line 847, in enable\n",
            "    sys.settrace(self.trace_memory_usage)\n",
            "\n"
          ]
        },
        {
          "output_type": "stream",
          "name": "stdout",
          "text": [
            "ERROR: Could not find file <ipython-input-23-0c262fe8b87b>\n",
            "NOTE: %mprun can only be used on functions defined in physical files, and not in the IPython environment.\n"
          ]
        },
        {
          "output_type": "stream",
          "name": "stderr",
          "text": [
            "\n",
            "PYDEV DEBUGGER WARNING:\n",
            "sys.settrace() should not be used when the debugger is being used.\n",
            "This may cause the debugger to stop working correctly.\n",
            "If this is needed, please check: \n",
            "http://pydev.blogspot.com/2007/06/why-cant-pydev-debugger-work-with.html\n",
            "to see how to restore the debug tracing back correctly.\n",
            "Call Location:\n",
            "  File \"/usr/local/lib/python3.11/dist-packages/memory_profiler.py\", line 850, in disable\n",
            "    sys.settrace(self._original_trace_function)\n",
            "\n"
          ]
        }
      ]
    },
    {
      "cell_type": "code",
      "source": [
        "#17. Write a Python program to create and write a list of numbers to a file, one number per line.\n",
        "\n",
        "# Create a list of numbers\n",
        "numbers = [1, 2, 3, 4, 5, 6, 7, 8, 9, 10]\n",
        "\n",
        "# Open a file in write mode (creates a new file if it doesn't exist)\n",
        "with open('numbers.txt', 'w') as file:\n",
        "    # Loop through the list and write each number to the file on a new line\n",
        "    for number in numbers:\n",
        "        file.write(f\"{number}\\n\")\n",
        "\n",
        "print(\"Numbers have been written to numbers.txt\")\n"
      ],
      "metadata": {
        "colab": {
          "base_uri": "https://localhost:8080/"
        },
        "id": "0-q6Yv1TwsNr",
        "outputId": "73b45612-289c-4276-f506-4aa2bd02afa0"
      },
      "execution_count": 24,
      "outputs": [
        {
          "output_type": "stream",
          "name": "stdout",
          "text": [
            "Numbers have been written to numbers.txt\n"
          ]
        }
      ]
    },
    {
      "cell_type": "code",
      "source": [
        "#18. How would you implement a basic logging setup that logs to a file with rotation after 1MB?\n",
        "import logging\n",
        "from logging.handlers import RotatingFileHandler\n",
        "\n",
        "# Set up a rotating file handler that rotates the log file after it reaches 1MB (1048576 bytes)\n",
        "log_file = 'app.log'\n",
        "max_log_size = 1 * 1024 * 1024  # 1MB in bytes\n",
        "backup_count = 3  # Number of backup files to keep\n",
        "\n",
        "# Create a rotating file handler\n",
        "handler = RotatingFileHandler(log_file, maxBytes=max_log_size, backupCount=backup_count)\n",
        "\n",
        "# Set the log format\n",
        "formatter = logging.Formatter('%(asctime)s - %(levelname)s - %(message)s')\n",
        "handler.setFormatter(formatter)\n",
        "\n",
        "# Create a logger\n",
        "logger = logging.getLogger()\n",
        "\n",
        "# Set the logging level\n",
        "logger.setLevel(logging.DEBUG)\n",
        "\n",
        "# Add the handler to the logger\n",
        "logger.addHandler(handler)\n",
        "\n",
        "# Example log entries\n",
        "logger.debug('This is a debug message')\n",
        "logger.info('This is an info message')\n",
        "logger.warning('This is a warning message')\n",
        "logger.error('This is an error message')\n",
        "logger.critical('This is a critical message')\n",
        "\n",
        "print(\"Logging setup complete. Logs will be written to 'app.log'.\")\n"
      ],
      "metadata": {
        "colab": {
          "base_uri": "https://localhost:8080/"
        },
        "id": "aDz3As8Ixarq",
        "outputId": "a8426a78-9a30-4a4c-85f5-c1b2cc4f8119"
      },
      "execution_count": 25,
      "outputs": [
        {
          "output_type": "stream",
          "name": "stderr",
          "text": [
            "DEBUG:root:This is a debug message\n",
            "INFO:root:This is an info message\n",
            "WARNING:root:This is a warning message\n",
            "ERROR:root:This is an error message\n",
            "CRITICAL:root:This is a critical message\n"
          ]
        },
        {
          "output_type": "stream",
          "name": "stdout",
          "text": [
            "Logging setup complete. Logs will be written to 'app.log'.\n"
          ]
        }
      ]
    },
    {
      "cell_type": "code",
      "source": [
        "#19. Write a program that handles both IndexError and KeyError using a try-except block.\n",
        "\n",
        "def handle_errors():\n",
        "    # Sample data\n",
        "    my_list = [1, 2, 3]\n",
        "    my_dict = {'a': 1, 'b': 2}\n",
        "\n",
        "    try:\n",
        "        # Attempting to access an invalid index in the list\n",
        "        print(my_list[5])  # This will raise an IndexError\n",
        "\n",
        "        # Attempting to access a non-existent key in the dictionary\n",
        "        print(my_dict['c'])  # This will raise a KeyError\n",
        "\n",
        "    except IndexError as e:\n",
        "        print(f\"IndexError: {e} - Invalid index in the list.\")\n",
        "\n",
        "    except KeyError as e:\n",
        "        print(f\"KeyError: {e} - Key not found in the dictionary.\")\n",
        "\n",
        "    else:\n",
        "        print(\"No errors occurred!\")\n",
        "\n",
        "    finally:\n",
        "        print(\"Execution completed.\")\n",
        "\n",
        "# Call the function to see how errors are handled\n",
        "handle_errors()\n"
      ],
      "metadata": {
        "colab": {
          "base_uri": "https://localhost:8080/"
        },
        "id": "yflmKFNrxmJL",
        "outputId": "67343fde-1c82-40f1-d519-c9b798f9b55e"
      },
      "execution_count": 26,
      "outputs": [
        {
          "output_type": "stream",
          "name": "stdout",
          "text": [
            "IndexError: list index out of range - Invalid index in the list.\n",
            "Execution completed.\n"
          ]
        }
      ]
    },
    {
      "cell_type": "code",
      "source": [
        "#How would you open a file and read its contents using a context manager in Python.\n",
        "\n",
        "# Open and read a file using a context manager\n",
        "file_path = 'example.txt'\n",
        "\n",
        "with open(file_path, 'r') as file:\n",
        "    # Read the contents of the file\n",
        "    content = file.read()\n",
        "\n",
        "# After the 'with' block, the file is automatically closed\n",
        "print(content)\n",
        "\n"
      ],
      "metadata": {
        "colab": {
          "base_uri": "https://localhost:8080/"
        },
        "id": "nOIMk0F4xylt",
        "outputId": "24451572-056d-43d0-e199-24fa1612152b"
      },
      "execution_count": 27,
      "outputs": [
        {
          "output_type": "stream",
          "name": "stdout",
          "text": [
            "This is the string written to the file.\n"
          ]
        }
      ]
    },
    {
      "cell_type": "code",
      "source": [],
      "metadata": {
        "id": "l41UOx20yAwD"
      },
      "execution_count": null,
      "outputs": []
    }
  ]
}